{
 "cells": [
  {
   "cell_type": "code",
   "execution_count": 1,
   "metadata": {},
   "outputs": [],
   "source": [
    "import pandas as pd\n",
    "import numpy as np\n",
    "import seaborn as sns\n",
    "from sklearn.model_selection import train_test_split\n",
    "from sklearn.preprocessing import LabelEncoder\n",
    "from sklearn.metrics import classification_report,confusion_matrix"
   ]
  },
  {
   "cell_type": "code",
   "execution_count": 2,
   "metadata": {},
   "outputs": [
    {
     "data": {
      "text/html": [
       "<div>\n",
       "<style scoped>\n",
       "    .dataframe tbody tr th:only-of-type {\n",
       "        vertical-align: middle;\n",
       "    }\n",
       "\n",
       "    .dataframe tbody tr th {\n",
       "        vertical-align: top;\n",
       "    }\n",
       "\n",
       "    .dataframe thead th {\n",
       "        text-align: right;\n",
       "    }\n",
       "</style>\n",
       "<table border=\"1\" class=\"dataframe\">\n",
       "  <thead>\n",
       "    <tr style=\"text-align: right;\">\n",
       "      <th></th>\n",
       "      <th>PhraseId</th>\n",
       "      <th>SentenceId</th>\n",
       "      <th>Phrase</th>\n",
       "      <th>Sentiment</th>\n",
       "    </tr>\n",
       "  </thead>\n",
       "  <tbody>\n",
       "    <tr>\n",
       "      <th>0</th>\n",
       "      <td>1</td>\n",
       "      <td>1</td>\n",
       "      <td>A series of escapades demonstrating the adage ...</td>\n",
       "      <td>1</td>\n",
       "    </tr>\n",
       "    <tr>\n",
       "      <th>1</th>\n",
       "      <td>2</td>\n",
       "      <td>1</td>\n",
       "      <td>A series of escapades demonstrating the adage ...</td>\n",
       "      <td>2</td>\n",
       "    </tr>\n",
       "    <tr>\n",
       "      <th>2</th>\n",
       "      <td>3</td>\n",
       "      <td>1</td>\n",
       "      <td>A series</td>\n",
       "      <td>2</td>\n",
       "    </tr>\n",
       "    <tr>\n",
       "      <th>3</th>\n",
       "      <td>4</td>\n",
       "      <td>1</td>\n",
       "      <td>A</td>\n",
       "      <td>2</td>\n",
       "    </tr>\n",
       "    <tr>\n",
       "      <th>4</th>\n",
       "      <td>5</td>\n",
       "      <td>1</td>\n",
       "      <td>series</td>\n",
       "      <td>2</td>\n",
       "    </tr>\n",
       "  </tbody>\n",
       "</table>\n",
       "</div>"
      ],
      "text/plain": [
       "   PhraseId  SentenceId                                             Phrase  \\\n",
       "0         1           1  A series of escapades demonstrating the adage ...   \n",
       "1         2           1  A series of escapades demonstrating the adage ...   \n",
       "2         3           1                                           A series   \n",
       "3         4           1                                                  A   \n",
       "4         5           1                                             series   \n",
       "\n",
       "   Sentiment  \n",
       "0          1  \n",
       "1          2  \n",
       "2          2  \n",
       "3          2  \n",
       "4          2  "
      ]
     },
     "execution_count": 2,
     "metadata": {},
     "output_type": "execute_result"
    }
   ],
   "source": [
    "data = pd.read_csv(\"train.tsv\",sep=\"\\t\")#encoding=\"latin\"\n",
    "data.head(5)"
   ]
  },
  {
   "cell_type": "code",
   "execution_count": 3,
   "metadata": {},
   "outputs": [
    {
     "data": {
      "text/plain": [
       "2    79582\n",
       "3    32927\n",
       "1    27273\n",
       "4     9206\n",
       "0     7072\n",
       "Name: Sentiment, dtype: int64"
      ]
     },
     "execution_count": 3,
     "metadata": {},
     "output_type": "execute_result"
    }
   ],
   "source": [
    "data.Sentiment.value_counts()"
   ]
  },
  {
   "cell_type": "code",
   "execution_count": 4,
   "metadata": {},
   "outputs": [
    {
     "data": {
      "text/plain": [
       "<AxesSubplot:xlabel='Sentiment', ylabel='count'>"
      ]
     },
     "execution_count": 4,
     "metadata": {},
     "output_type": "execute_result"
    },
    {
     "data": {
      "image/png": "[encoded data removed]",
      "text/plain": [
       "<Figure size 432x288 with 1 Axes>"
      ]
     },
     "metadata": {
      "needs_background": "light"
     },
     "output_type": "display_data"
    }
   ],
   "source": [
    "import seaborn as sns\n",
    "data.groupby('Sentiment').describe\n",
    "sns.countplot(data=data, x='Sentiment')"
   ]
  },
  {
   "cell_type": "code",
   "execution_count": 6,
   "metadata": {},
   "outputs": [],
   "source": [
    "x_train,x_test,y_train,y_test = train_test_split(data.Phrase, data.Sentiment, test_size=0.5, random_state=37)"
   ]
  },
  {
   "cell_type": "code",
   "execution_count": 7,
   "metadata": {},
   "outputs": [
    {
     "name": "stdout",
     "output_type": "stream",
     "text": [
      "(78030,)\n",
      "(78030,)\n",
      "(78030,)\n",
      "(78030,)\n"
     ]
    }
   ],
   "source": [
    "print(x_train.shape)\n",
    "print(x_test.shape)\n",
    "print(y_train.shape)\n",
    "print(y_test.shape)"
   ]
  },
  {
   "cell_type": "code",
   "execution_count": 8,
   "metadata": {},
   "outputs": [],
   "source": [
    "from sklearn.feature_extraction.text import CountVectorizer\n",
    "vectorizer=CountVectorizer()\n",
    "vectorized_text = vectorizer.fit_transform(x_train)"
   ]
  },
  {
   "cell_type": "markdown",
   "metadata": {},
   "source": [
    "# Naive Bayes"
   ]
  },
  {
   "cell_type": "code",
   "execution_count": 9,
   "metadata": {},
   "outputs": [
    {
     "data": {
      "text/plain": [
       "MultinomialNB()"
      ]
     },
     "execution_count": 9,
     "metadata": {},
     "output_type": "execute_result"
    }
   ],
   "source": [
    "from sklearn.naive_bayes import MultinomialNB\n",
    "\n",
    "classifier = MultinomialNB()\n",
    "classifier.fit(vectorized_text,y_train)"
   ]
  },
  {
   "cell_type": "code",
   "execution_count": 10,
   "metadata": {},
   "outputs": [],
   "source": [
    "x_test_vector=vectorizer.transform(x_test)\n",
    "final_prediction_NB=classifier.predict(x_test_vector)"
   ]
  },
  {
   "cell_type": "code",
   "execution_count": 11,
   "metadata": {},
   "outputs": [
    {
     "name": "stdout",
     "output_type": "stream",
     "text": [
      "Total number of test cases 78030\n",
      "Number of wrong of predictions 31445\n"
     ]
    }
   ],
   "source": [
    "count = 0\n",
    "for i in range(len(y_test)):\n",
    "    if y_test.iloc[i] != final_prediction_NB[i]:\n",
    "        count += 1\n",
    "print('Total number of test cases', ((len(y_test))))\n",
    "print('Number of wrong of predictions', count)"
   ]
  },
  {
   "cell_type": "code",
   "execution_count": 12,
   "metadata": {},
   "outputs": [
    {
     "name": "stdout",
     "output_type": "stream",
     "text": [
      "              precision    recall  f1-score   support\n",
      "\n",
      "           0       0.43      0.23      0.30      3590\n",
      "           1       0.47      0.42      0.44     13586\n",
      "           2       0.68      0.77      0.72     39896\n",
      "           3       0.50      0.50      0.50     16427\n",
      "           4       0.44      0.27      0.33      4531\n",
      "\n",
      "    accuracy                           0.60     78030\n",
      "   macro avg       0.50      0.44      0.46     78030\n",
      "weighted avg       0.58      0.60      0.59     78030\n",
      "\n"
     ]
    }
   ],
   "source": [
    "print(classification_report( y_test,final_prediction_NB))"
   ]
  },
  {
   "cell_type": "code",
   "execution_count": 13,
   "metadata": {},
   "outputs": [
    {
     "name": "stdout",
     "output_type": "stream",
     "text": [
      "AxesSubplot(0.125,0.125;0.62x0.755)\n"
     ]
    },
    {
     "data": {
      "image/png": "[encoded data removed]",
      "text/plain": [
       "<Figure size 432x288 with 2 Axes>"
      ]
     },
     "metadata": {
      "needs_background": "light"
     },
     "output_type": "display_data"
    }
   ],
   "source": [
    "print(sns.heatmap(confusion_matrix(y_test,final_prediction_NB),annot=True,fmt=''))"
   ]
  },
  {
   "cell_type": "markdown",
   "metadata": {},
   "source": [
    "# Logistic Regression"
   ]
  },
  {
   "cell_type": "code",
   "execution_count": 14,
   "metadata": {},
   "outputs": [
    {
     "name": "stderr",
     "output_type": "stream",
     "text": [
      "C:\\Users\\Dell\\anaconda3\\envs\\venvt\\lib\\site-packages\\sklearn\\linear_model\\_logistic.py:763: ConvergenceWarning: lbfgs failed to converge (status=1):\n",
      "STOP: TOTAL NO. of ITERATIONS REACHED LIMIT.\n",
      "\n",
      "Increase the number of iterations (max_iter) or scale the data as shown in:\n",
      "    https://scikit-learn.org/stable/modules/preprocessing.html\n",
      "Please also refer to the documentation for alternative solver options:\n",
      "    https://scikit-learn.org/stable/modules/linear_model.html#logistic-regression\n",
      "  n_iter_i = _check_optimize_result(\n"
     ]
    },
    {
     "data": {
      "text/plain": [
       "LogisticRegression(random_state=0)"
      ]
     },
     "execution_count": 14,
     "metadata": {},
     "output_type": "execute_result"
    }
   ],
   "source": [
    "from sklearn.linear_model import LogisticRegression\n",
    "classifier_logistic =  LogisticRegression(random_state=0)\n",
    "classifier_logistic.fit(vectorized_text,y_train)"
   ]
  },
  {
   "cell_type": "code",
   "execution_count": 15,
   "metadata": {},
   "outputs": [],
   "source": [
    "final_prediction_LR=classifier_logistic.predict(x_test_vector)"
   ]
  },
  {
   "cell_type": "code",
   "execution_count": 16,
   "metadata": {},
   "outputs": [
    {
     "name": "stdout",
     "output_type": "stream",
     "text": [
      "              precision    recall  f1-score   support\n",
      "\n",
      "           0       0.51      0.28      0.36      3590\n",
      "           1       0.52      0.37      0.43     13586\n",
      "           2       0.69      0.86      0.76     39896\n",
      "           3       0.57      0.47      0.51     16427\n",
      "           4       0.54      0.32      0.40      4531\n",
      "\n",
      "    accuracy                           0.64     78030\n",
      "   macro avg       0.57      0.46      0.49     78030\n",
      "weighted avg       0.62      0.64      0.61     78030\n",
      "\n"
     ]
    }
   ],
   "source": [
    "\n",
    "print(classification_report( y_test,final_prediction_LR))"
   ]
  },
  {
   "cell_type": "markdown",
   "metadata": {},
   "source": [
    "# ANN with embedding layers and precised mode"
   ]
  },
  {
   "cell_type": "code",
   "execution_count": 17,
   "metadata": {},
   "outputs": [],
   "source": [
    "X=data.Phrase\n",
    "Y=data.Sentiment\n",
    "le=LabelEncoder()\n",
    "Y=le.fit_transform(Y)"
   ]
  },
  {
   "cell_type": "code",
   "execution_count": 18,
   "metadata": {},
   "outputs": [
    {
     "name": "stdout",
     "output_type": "stream",
     "text": [
      "(156060,)\n",
      "(156060,)\n"
     ]
    }
   ],
   "source": [
    "print(X.shape)\n",
    "print(Y.shape)"
   ]
  },
  {
   "cell_type": "code",
   "execution_count": 19,
   "metadata": {},
   "outputs": [],
   "source": [
    "x_train,x_test,y_train,y_test = train_test_split(X,Y,test_size=0.5, random_state = 41)"
   ]
  },
  {
   "cell_type": "code",
   "execution_count": 20,
   "metadata": {},
   "outputs": [
    {
     "name": "stdout",
     "output_type": "stream",
     "text": [
      "(78030,)\n",
      "(78030,)\n",
      "(78030,)\n",
      "(78030,)\n"
     ]
    }
   ],
   "source": [
    "print(x_train.shape)\n",
    "print(y_train.shape)\n",
    "print(x_test.shape)\n",
    "print(y_test.shape)"
   ]
  },
  {
   "cell_type": "code",
   "execution_count": 21,
   "metadata": {},
   "outputs": [],
   "source": [
    "max_length = 120\n",
    "vocab_size = 10000\n",
    "embeding_dim = 16 \n",
    "trunc_type = 'post'\n",
    "oov_tok=\"<OOV>\""
   ]
  },
  {
   "cell_type": "code",
   "execution_count": 22,
   "metadata": {},
   "outputs": [],
   "source": [
    "from keras.preprocessing.text import Tokenizer \n",
    "from keras.preprocessing import sequence\n",
    "tokenizer=Tokenizer(num_words=vocab_size,oov_token=oov_tok)\n",
    "tokenizer.fit_on_texts(x_train)\n",
    "word_index = tokenizer.word_index\n",
    "sequences = tokenizer.texts_to_sequences(x_train)\n",
    "padded_sequence=sequence.pad_sequences(sequences,padding='post',truncating=trunc_type,maxlen=max_length)"
   ]
  },
  {
   "cell_type": "code",
   "execution_count": 23,
   "metadata": {},
   "outputs": [],
   "source": [
    "testing_sequence = tokenizer.texts_to_sequences(x_test)\n",
    "padded_testing = sequence.pad_sequences(testing_sequence,padding='post',truncating=trunc_type,maxlen=max_length)"
   ]
  },
  {
   "cell_type": "code",
   "execution_count": 24,
   "metadata": {},
   "outputs": [
    {
     "name": "stdout",
     "output_type": "stream",
     "text": [
      "(78030, 120)\n",
      "(78030,)\n",
      "(78030, 120)\n",
      "(78030,)\n"
     ]
    }
   ],
   "source": [
    "print(padded_sequence.shape)\n",
    "print(y_train.shape)\n",
    "print(padded_testing.shape)\n",
    "print(y_test.shape)"
   ]
  },
  {
   "cell_type": "code",
   "execution_count": 25,
   "metadata": {},
   "outputs": [],
   "source": [
    "import tensorflow"
   ]
  },
  {
   "cell_type": "code",
   "execution_count": 26,
   "metadata": {},
   "outputs": [
    {
     "name": "stdout",
     "output_type": "stream",
     "text": [
      "Model: \"sequential\"\n",
      "_________________________________________________________________\n",
      "Layer (type)                 Output Shape              Param #   \n",
      "=================================================================\n",
      "embedding (Embedding)        (None, 120, 16)           160000    \n",
      "_________________________________________________________________\n",
      "gru (GRU)                    (None, 3)                 189       \n",
      "_________________________________________________________________\n",
      "dense (Dense)                (None, 6)                 24        \n",
      "_________________________________________________________________\n",
      "dense_1 (Dense)              (None, 1)                 7         \n",
      "=================================================================\n",
      "Total params: 160,220\n",
      "Trainable params: 160,220\n",
      "Non-trainable params: 0\n",
      "_________________________________________________________________\n"
     ]
    }
   ],
   "source": [
    "model=tensorflow.keras.Sequential([\n",
    "    tensorflow.keras.layers.Embedding(vocab_size,embeding_dim,input_length=max_length),\n",
    "    tensorflow.keras.layers.GRU(3),\n",
    "    tensorflow.keras.layers.Dense(6,activation='relu'),\n",
    "#     tf.keras.layers.Dropout(0.2),\n",
    "    tensorflow.keras.layers.Dense(1,activation='sigmoid')\n",
    "])\n",
    "\n",
    "model.compile(loss='binary_crossentropy',metrics=['acc'],optimizer='adam')\n",
    "model.summary()"
   ]
  },
  {
   "cell_type": "code",
   "execution_count": 28,
   "metadata": {},
   "outputs": [
    {
     "name": "stdout",
     "output_type": "stream",
     "text": [
      "Epoch 1/5\n",
      "2439/2439 - 94s - loss: -1.0233e+02 - acc: 0.1740 - val_loss: -1.6940e+02 - val_acc: 0.1755\n",
      "Epoch 2/5\n",
      "2439/2439 - 93s - loss: -2.5825e+02 - acc: 0.1740 - val_loss: -3.5329e+02 - val_acc: 0.1755\n",
      "Epoch 3/5\n",
      "2439/2439 - 93s - loss: -4.7093e+02 - acc: 0.1740 - val_loss: -5.9175e+02 - val_acc: 0.1755\n",
      "Epoch 4/5\n",
      "2439/2439 - 94s - loss: -7.3795e+02 - acc: 0.1740 - val_loss: -8.8385e+02 - val_acc: 0.1755\n",
      "Epoch 5/5\n",
      "2439/2439 - 93s - loss: -1.0583e+03 - acc: 0.1740 - val_loss: -1.2285e+03 - val_acc: 0.1755\n"
     ]
    }
   ],
   "source": [
    "history = model.fit(padded_sequence,y_train,epochs=5,validation_data=(padded_testing,y_test),verbose=2)"
   ]
  },
  {
   "cell_type": "code",
   "execution_count": 29,
   "metadata": {},
   "outputs": [
    {
     "data": {
      "image/png": "[encoded data removed]",
      "text/plain": [
       "<Figure size 432x288 with 1 Axes>"
      ]
     },
     "metadata": {
      "needs_background": "light"
     },
     "output_type": "display_data"
    },
    {
     "data": {
      "image/png": "[encoded data removed]",
      "text/plain": [
       "<Figure size 432x288 with 1 Axes>"
      ]
     },
     "metadata": {
      "needs_background": "light"
     },
     "output_type": "display_data"
    }
   ],
   "source": [
    "import matplotlib.pyplot as plt\n",
    "def plot_graphs(history, string):\n",
    "    plt.plot(history.history[string])\n",
    "    plt.plot(history.history['val_'+string])\n",
    "    plt.xlabel(\"Epochs\")\n",
    "    plt.ylabel(string)\n",
    "    plt.legend([string, 'val_'+string])\n",
    "    plt.show()\n",
    "plot_graphs(history, \"acc\")\n",
    "plot_graphs(history, \"loss\")"
   ]
  },
  {
   "cell_type": "markdown",
   "metadata": {},
   "source": [
    "# Bidirectional convolutional layer"
   ]
  },
  {
   "cell_type": "code",
   "execution_count": 30,
   "metadata": {},
   "outputs": [
    {
     "name": "stdout",
     "output_type": "stream",
     "text": [
      "Model: \"sequential_1\"\n",
      "_________________________________________________________________\n",
      "Layer (type)                 Output Shape              Param #   \n",
      "=================================================================\n",
      "embedding_1 (Embedding)      (None, 120, 16)           160000    \n",
      "_________________________________________________________________\n",
      "bidirectional (Bidirectional (None, 128)               41472     \n",
      "_________________________________________________________________\n",
      "dense_2 (Dense)              (None, 64)                8256      \n",
      "_________________________________________________________________\n",
      "dropout (Dropout)            (None, 64)                0         \n",
      "_________________________________________________________________\n",
      "dense_3 (Dense)              (None, 1)                 65        \n",
      "=================================================================\n",
      "Total params: 209,793\n",
      "Trainable params: 209,793\n",
      "Non-trainable params: 0\n",
      "_________________________________________________________________\n"
     ]
    }
   ],
   "source": [
    "from tensorflow.keras import regularizers\n",
    "model1 = tensorflow.keras.Sequential([\n",
    "    tensorflow.keras.layers.Embedding(vocab_size,embeding_dim,input_length = max_length),\n",
    "    tensorflow.keras.layers.Bidirectional(tensorflow.keras.layers.LSTM(64)),\n",
    "    tensorflow.keras.layers.Dense(64,activation='relu'),\n",
    "    tensorflow.keras.layers.Dropout(0.2),\n",
    "    tensorflow.keras.layers.Dense(1,activation='sigmoid')\n",
    "])\n",
    "\n",
    "model1.compile(loss='binary_crossentropy',optimizer=tensorflow.keras.optimizers.Adam(lr=0.001),metrics=['acc'])\n",
    "model1.summary()"
   ]
  },
  {
   "cell_type": "code",
   "execution_count": 32,
   "metadata": {},
   "outputs": [
    {
     "name": "stdout",
     "output_type": "stream",
     "text": [
      "Epoch 1/5\n",
      "2439/2439 - 179s - loss: -3.2458e+04 - acc: 0.1740 - val_loss: -7.1296e+04 - val_acc: 0.1755\n",
      "Epoch 2/5\n",
      "2439/2439 - 181s - loss: -1.2956e+05 - acc: 0.1740 - val_loss: -1.9417e+05 - val_acc: 0.1755\n",
      "Epoch 3/5\n",
      "2439/2439 - 175s - loss: -2.7683e+05 - acc: 0.1740 - val_loss: -3.6395e+05 - val_acc: 0.1755\n",
      "Epoch 4/5\n",
      "2439/2439 - 174s - loss: -4.7063e+05 - acc: 0.1740 - val_loss: -5.7726e+05 - val_acc: 0.1755\n",
      "Epoch 5/5\n",
      "2439/2439 - 174s - loss: -7.0926e+05 - acc: 0.1740 - val_loss: -8.3595e+05 - val_acc: 0.1755\n"
     ]
    }
   ],
   "source": [
    "earlystop = tensorflow.keras.callbacks.EarlyStopping(monitor = 'val_loss', \n",
    "                          patience = 3,\n",
    "                          verbose = 1,\n",
    "                          restore_best_weights = True)\n",
    "history1 = model1.fit(padded_sequence,y_train,epochs=5,validation_data=(padded_testing,y_test),verbose=2,callbacks=[earlystop])"
   ]
  },
  {
   "cell_type": "code",
   "execution_count": 33,
   "metadata": {},
   "outputs": [
    {
     "data": {
      "image/png": "[encoded data removed]",
      "text/plain": [
       "<Figure size 432x288 with 1 Axes>"
      ]
     },
     "metadata": {
      "needs_background": "light"
     },
     "output_type": "display_data"
    },
    {
     "data": {
      "image/png": "[encoded data removed]",
      "text/plain": [
       "<Figure size 432x288 with 1 Axes>"
      ]
     },
     "metadata": {
      "needs_background": "light"
     },
     "output_type": "display_data"
    }
   ],
   "source": [
    "plot_graphs(history1, \"acc\")\n",
    "plot_graphs(history1, \"loss\")\n"
   ]
  },
  {
   "cell_type": "code",
   "execution_count": 1,
   "metadata": {},
   "outputs": [
    {
     "name": "stdout",
     "output_type": "stream",
     "text": [
      "+----------------------------------+---------------+\n",
      "|            Model Name            | Test Accuracy |\n",
      "+----------------------------------+---------------+\n",
      "|           Naive Bayes            |      61%      |\n",
      "|       Logistic Regression        |      64%      |\n",
      "| ANN with 1 hidden layer and RNN  |     17.55%    |\n",
      "| ANN with 1 hidden layer and LSTM |     17.55%    |\n",
      "+----------------------------------+---------------+\n",
      "\n"
     ]
    }
   ],
   "source": [
    "#!pip install prettytable\n",
    "from prettytable import PrettyTable\n",
    "ptable = PrettyTable()\n",
    "ptable.field_names=[\"Model Name\",\"Test Accuracy\"]\n",
    "ptable.add_row([\"Naive Bayes\",\"61%\"])\n",
    "ptable.add_row([\"Logistic Regression\",\"64%\"])\n",
    "ptable.add_row([\"ANN with 1 hidden layer and RNN\",\"17.55%\"])\n",
    "ptable.add_row([\"ANN with 1 hidden layer and LSTM\",\"17.55%\"])\n",
    "\n",
    "print(ptable)\n",
    "print()"
   ]
  },
  {
   "cell_type": "code",
   "execution_count": 1,
   "metadata": {},
   "outputs": [
    {
     "name": "stdout",
     "output_type": "stream",
     "text": [
      "Collecting anvil-uplink\n",
      "  Downloading anvil_uplink-0.3.36-py2.py3-none-any.whl (61 kB)\n",
      "Collecting ws4py\n",
      "  Downloading ws4py-0.5.1.tar.gz (51 kB)\n",
      "Collecting future\n",
      "  Downloading future-0.18.2.tar.gz (829 kB)\n",
      "Collecting argparse\n",
      "  Downloading argparse-1.4.0-py2.py3-none-any.whl (23 kB)\n",
      "Requirement already satisfied: six in c:\\users\\dell\\anaconda3\\envs\\venvt\\lib\\site-packages (from anvil-uplink) (1.16.0)\n",
      "Building wheels for collected packages: future, ws4py\n",
      "  Building wheel for future (setup.py): started\n",
      "  Building wheel for future (setup.py): finished with status 'done'\n",
      "  Created wheel for future: filename=future-0.18.2-py3-none-any.whl size=491059 sha256=813ed2b8abc4f46bc311fa00c72333f83b066c5e674c17c1b813ecb17be2fc17\n",
      "  Stored in directory: c:\\users\\dell\\appdata\\local\\pip\\cache\\wheels\\8e\\70\\28\\3d6ccd6e315f65f245da085482a2e1c7d14b90b30f239e2cf4\n",
      "  Building wheel for ws4py (setup.py): started\n",
      "  Building wheel for ws4py (setup.py): finished with status 'done'\n",
      "  Created wheel for ws4py: filename=ws4py-0.5.1-py3-none-any.whl size=45215 sha256=85b81e99382887b04a18b6eab1639a2ba8a265c7fd69a2d58a203c8fef187f8e\n",
      "  Stored in directory: c:\\users\\dell\\appdata\\local\\pip\\cache\\wheels\\ea\\f9\\a1\\34e2943cce3cf7daca304bfc35e91280694ced9194a487ce2f\n",
      "Successfully built future ws4py\n",
      "Installing collected packages: ws4py, future, argparse, anvil-uplink\n",
      "Successfully installed anvil-uplink-0.3.36 argparse-1.4.0 future-0.18.2 ws4py-0.5.1\n"
     ]
    }
   ],
   "source": [
    "!pip install anvil-uplink"
   ]
  },
  {
   "cell_type": "code",
   "execution_count": null,
   "metadata": {},
   "outputs": [],
   "source": []
  },
  {
   "cell_type": "code",
   "execution_count": null,
   "metadata": {},
   "outputs": [],
   "source": []
  },
  {
   "cell_type": "code",
   "execution_count": null,
   "metadata": {},
   "outputs": [],
   "source": []
  },
  {
   "cell_type": "code",
   "execution_count": null,
   "metadata": {},
   "outputs": [],
   "source": []
  }
 ],
 "metadata": {
  "kernelspec": {
   "display_name": "Python 3",
   "language": "python",
   "name": "python3"
  },
  "language_info": {
   "codemirror_mode": {
    "name": "ipython",
    "version": 3
   },
   "file_extension": ".py",
   "mimetype": "text/x-python",
   "name": "python",
   "nbconvert_exporter": "python",
   "pygments_lexer": "ipython3",
   "version": "3.8.10"
  }
 },
 "nbformat": 4,
 "nbformat_minor": 2
}
